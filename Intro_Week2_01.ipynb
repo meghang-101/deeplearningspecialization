{
  "nbformat": 4,
  "nbformat_minor": 0,
  "metadata": {
    "colab": {
      "name": "Intro_Week2_01.ipynb",
      "provenance": [],
      "authorship_tag": "ABX9TyNWr8Z8i4P89Q4I6aR6T37x",
      "include_colab_link": true
    },
    "kernelspec": {
      "name": "python3",
      "display_name": "Python 3"
    },
    "language_info": {
      "name": "python"
    }
  },
  "cells": [
    {
      "cell_type": "markdown",
      "metadata": {
        "id": "view-in-github",
        "colab_type": "text"
      },
      "source": [
        "<a href=\"https://colab.research.google.com/github/meghang-101/deeplearningspecialization/blob/main/Intro_Week2_01.ipynb\" target=\"_parent\"><img src=\"https://colab.research.google.com/assets/colab-badge.svg\" alt=\"Open In Colab\"/></a>"
      ]
    },
    {
      "cell_type": "code",
      "metadata": {
        "colab": {
          "base_uri": "https://localhost:8080/"
        },
        "id": "WzkWVnUd2FbX",
        "outputId": "618135d0-0668-4e49-e261-5cd8521fab02"
      },
      "source": [
        "import tensorflow as tf\n",
        "print(tf.__version__)\n",
        "import numpy as np\n",
        "import matplotlib.pyplot as plt"
      ],
      "execution_count": 1,
      "outputs": [
        {
          "output_type": "stream",
          "text": [
            "2.5.0\n"
          ],
          "name": "stdout"
        }
      ]
    },
    {
      "cell_type": "code",
      "metadata": {
        "id": "83qg3VuU2TnE"
      },
      "source": [
        "# getting data from dataset\n",
        "mnist = tf.keras.datasets.fashion_mnist\n",
        "(training_images, training_labels), (test_images, test_labels) = mnist.load_data()\n",
        "\n",
        "# scaling down pixel values from 255 to 1\n",
        "training_images  = training_images / 255.0\n",
        "test_images = test_images / 255.0"
      ],
      "execution_count": 2,
      "outputs": []
    },
    {
      "cell_type": "code",
      "metadata": {
        "colab": {
          "base_uri": "https://localhost:8080/"
        },
        "id": "5nWD4ibu5B0V",
        "outputId": "b327ee46-999e-4005-f29a-498d0e5d8ec8"
      },
      "source": [
        "# defining nn\n",
        "model = tf.keras.models.Sequential([tf.keras.layers.Flatten(), #flatten changes images to one dimentional set\n",
        "                                    tf.keras.layers.Dense(128, activation=tf.nn.relu), #relu means if X>0, return X, else return 0\n",
        "                                    tf.keras.layers.Dense(10, activation=tf.nn.softmax)]) #number of dense layers should be equal to number of categories\n",
        "                                                                                          #softmax takes a set of values, and effectively picks the biggest one\n",
        "\n",
        "# compiling nn\n",
        "model.compile(optimizer = tf.optimizers.Adam(),\n",
        "              loss = 'sparse_categorical_crossentropy',\n",
        "              metrics=['accuracy'])\n",
        "\n",
        "# training model\n",
        "model.fit(training_images, training_labels, epochs=5)"
      ],
      "execution_count": 3,
      "outputs": [
        {
          "output_type": "stream",
          "text": [
            "Epoch 1/5\n",
            "1875/1875 [==============================] - 4s 2ms/step - loss: 0.4967 - accuracy: 0.8248\n",
            "Epoch 2/5\n",
            "1875/1875 [==============================] - 4s 2ms/step - loss: 0.3748 - accuracy: 0.8655\n",
            "Epoch 3/5\n",
            "1875/1875 [==============================] - 4s 2ms/step - loss: 0.3357 - accuracy: 0.8771\n",
            "Epoch 4/5\n",
            "1875/1875 [==============================] - 4s 2ms/step - loss: 0.3116 - accuracy: 0.8861\n",
            "Epoch 5/5\n",
            "1875/1875 [==============================] - 4s 2ms/step - loss: 0.2942 - accuracy: 0.8916\n"
          ],
          "name": "stdout"
        },
        {
          "output_type": "execute_result",
          "data": {
            "text/plain": [
              "<tensorflow.python.keras.callbacks.History at 0x7efffb83cd10>"
            ]
          },
          "metadata": {
            "tags": []
          },
          "execution_count": 3
        }
      ]
    },
    {
      "cell_type": "code",
      "metadata": {
        "colab": {
          "base_uri": "https://localhost:8080/"
        },
        "id": "poivqIG_6CRc",
        "outputId": "259bcc8e-855f-4767-fced-5d8f01920383"
      },
      "source": [
        "# the loss with previous training data is approx 0.29\n",
        "# now comparing loss with testing data\n",
        "model.evaluate(test_images, test_labels)"
      ],
      "execution_count": 4,
      "outputs": [
        {
          "output_type": "stream",
          "text": [
            "313/313 [==============================] - 1s 1ms/step - loss: 0.3542 - accuracy: 0.8737\n"
          ],
          "name": "stdout"
        },
        {
          "output_type": "execute_result",
          "data": {
            "text/plain": [
              "[0.354236364364624, 0.8737000226974487]"
            ]
          },
          "metadata": {
            "tags": []
          },
          "execution_count": 4
        }
      ]
    },
    {
      "cell_type": "code",
      "metadata": {
        "colab": {
          "base_uri": "https://localhost:8080/"
        },
        "id": "VGekz-yJ7QPy",
        "outputId": "8bae9bfe-9ce0-40e1-9bb1-82fdb734a3e2"
      },
      "source": [
        "# prediction using testing dataset\n",
        "classifications = model.predict(test_images)\n",
        "print(classifications[0]) #gives probably of the object in each of the categories.\n",
        "print(test_labels[0]) #gives test label defined by mnist dataset\n",
        "\n",
        "# this means that the 1st image has maximum probaility that it belongs to 9th class"
      ],
      "execution_count": 5,
      "outputs": [
        {
          "output_type": "stream",
          "text": [
            "[1.1478202e-05 1.2344527e-06 5.1628863e-06 9.3688158e-08 7.5806508e-07\n",
            " 4.0514365e-02 3.4161517e-06 4.9015123e-02 5.3913946e-06 9.1044289e-01]\n",
            "9\n"
          ],
          "name": "stdout"
        }
      ]
    }
  ]
}